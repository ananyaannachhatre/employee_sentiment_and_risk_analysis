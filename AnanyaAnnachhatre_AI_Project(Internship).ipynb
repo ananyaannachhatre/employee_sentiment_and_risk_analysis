{
  "nbformat": 4,
  "nbformat_minor": 0,
  "metadata": {
    "colab": {
      "provenance": []
    },
    "kernelspec": {
      "name": "python3",
      "display_name": "Python 3"
    },
    "language_info": {
      "name": "python"
    }
  },
  "cells": [
    {
      "cell_type": "code",
      "execution_count": 1,
      "metadata": {
        "id": "27F9VRQhfVnE"
      },
      "outputs": [],
      "source": [
        "import pandas as pd\n",
        "import numpy as np\n",
        "import re\n",
        "import matplotlib.pyplot as plt\n",
        "import seaborn as sns\n",
        "from sklearn.model_selection import train_test_split\n",
        "from sklearn.linear_model import LinearRegression\n",
        "from sklearn.metrics import mean_squared_error, r2_score\n",
        "from collections import defaultdict"
      ]
    },
    {
      "cell_type": "code",
      "source": [
        "!pip install textblob"
      ],
      "metadata": {
        "colab": {
          "base_uri": "https://localhost:8080/"
        },
        "id": "ysZle3Bqm4cx",
        "outputId": "c934b4f2-d708-40f8-b49b-1e59986bded2"
      },
      "execution_count": 2,
      "outputs": [
        {
          "output_type": "stream",
          "name": "stdout",
          "text": [
            "Requirement already satisfied: textblob in /usr/local/lib/python3.12/dist-packages (0.19.0)\n",
            "Requirement already satisfied: nltk>=3.9 in /usr/local/lib/python3.12/dist-packages (from textblob) (3.9.1)\n",
            "Requirement already satisfied: click in /usr/local/lib/python3.12/dist-packages (from nltk>=3.9->textblob) (8.3.0)\n",
            "Requirement already satisfied: joblib in /usr/local/lib/python3.12/dist-packages (from nltk>=3.9->textblob) (1.5.2)\n",
            "Requirement already satisfied: regex>=2021.8.3 in /usr/local/lib/python3.12/dist-packages (from nltk>=3.9->textblob) (2024.11.6)\n",
            "Requirement already satisfied: tqdm in /usr/local/lib/python3.12/dist-packages (from nltk>=3.9->textblob) (4.67.1)\n"
          ]
        }
      ]
    },
    {
      "cell_type": "code",
      "source": [
        "!python -m textblob.download_corpora"
      ],
      "metadata": {
        "colab": {
          "base_uri": "https://localhost:8080/"
        },
        "id": "b-JWFvtRnYDo",
        "outputId": "ee4825f7-aaf2-48d1-bc16-c4545b94d438"
      },
      "execution_count": 3,
      "outputs": [
        {
          "output_type": "stream",
          "name": "stdout",
          "text": [
            "[nltk_data] Downloading package brown to /root/nltk_data...\n",
            "[nltk_data]   Unzipping corpora/brown.zip.\n",
            "[nltk_data] Downloading package punkt_tab to /root/nltk_data...\n",
            "[nltk_data]   Unzipping tokenizers/punkt_tab.zip.\n",
            "[nltk_data] Downloading package wordnet to /root/nltk_data...\n",
            "[nltk_data] Downloading package averaged_perceptron_tagger_eng to\n",
            "[nltk_data]     /root/nltk_data...\n",
            "[nltk_data]   Unzipping taggers/averaged_perceptron_tagger_eng.zip.\n",
            "[nltk_data] Downloading package conll2000 to /root/nltk_data...\n",
            "[nltk_data]   Unzipping corpora/conll2000.zip.\n",
            "[nltk_data] Downloading package movie_reviews to /root/nltk_data...\n",
            "[nltk_data]   Unzipping corpora/movie_reviews.zip.\n",
            "Finished.\n"
          ]
        }
      ]
    },
    {
      "cell_type": "markdown",
      "source": [
        "# Load the dataset\n",
        "(Here 'ISO-8859-9' encoding is used to handle common character errors)"
      ],
      "metadata": {
        "id": "2sbrXjNYfpwL"
      }
    },
    {
      "cell_type": "code",
      "source": [
        "try:\n",
        "    df = pd.read_csv('/content/test.csv', encoding='ISO-8859-1')\n",
        "except FileNotFoundError:\n",
        "    print(\"Error: 'test.csv' not found. Please ensure the file is in the correct directory.\")\n",
        "    exit()"
      ],
      "metadata": {
        "id": "QxeR6V7efl_Z"
      },
      "execution_count": 4,
      "outputs": []
    },
    {
      "cell_type": "markdown",
      "source": [
        "# Standardize column names"
      ],
      "metadata": {
        "id": "tN8ZPgZcgCvj"
      }
    },
    {
      "cell_type": "code",
      "source": [
        "df.columns = ['Subject', 'body', 'date', 'from_email']"
      ],
      "metadata": {
        "id": "hB4kFBLBf_YV"
      },
      "execution_count": 5,
      "outputs": []
    },
    {
      "cell_type": "markdown",
      "source": [
        "# Convert 'date' to datetime objects. Format is inferred as Day-Month-Year (%d-%m-%Y)."
      ],
      "metadata": {
        "id": "3forTQBogH-T"
      }
    },
    {
      "cell_type": "code",
      "source": [
        "df['Timestamp'] = pd.to_datetime(df['date'], format='%d-%m-%Y', errors='coerce')"
      ],
      "metadata": {
        "id": "tnnsrxa5gMVW"
      },
      "execution_count": 6,
      "outputs": []
    },
    {
      "cell_type": "markdown",
      "source": [
        "# Use the whole email address as the Employee ID"
      ],
      "metadata": {
        "id": "w5OKEH3zgPYQ"
      }
    },
    {
      "cell_type": "code",
      "source": [
        "df['EmployeeID'] = df['from_email'].fillna('unknown_user')"
      ],
      "metadata": {
        "id": "iQoZaRnTgSOS"
      },
      "execution_count": 7,
      "outputs": []
    },
    {
      "cell_type": "markdown",
      "source": [
        "# Drop rows where Timestamp could not be parsed or key columns are missing"
      ],
      "metadata": {
        "id": "BwSIcgvjgXCH"
      }
    },
    {
      "cell_type": "code",
      "source": [
        "df.dropna(subset=['Timestamp', 'EmployeeID', 'body'], inplace=True)\n",
        "df = df.sort_values(by='Timestamp').reset_index(drop=True)"
      ],
      "metadata": {
        "id": "7ByE-X9Fga4z"
      },
      "execution_count": 8,
      "outputs": []
    },
    {
      "cell_type": "markdown",
      "source": [
        "# Concatenate Subject and body for a comprehensive message"
      ],
      "metadata": {
        "id": "e_g4bXdagilT"
      }
    },
    {
      "cell_type": "code",
      "source": [
        "df['CombinedMessage'] = df['Subject'].astype(str) + \" \" + df['body'].astype(str)"
      ],
      "metadata": {
        "id": "YmkqAX87gjtc"
      },
      "execution_count": 9,
      "outputs": []
    },
    {
      "cell_type": "markdown",
      "source": [
        "# Preprocessing Function\n",
        "Cleans the message body for reliable keyword matching."
      ],
      "metadata": {
        "id": "ximo96H-gmp1"
      }
    },
    {
      "cell_type": "code",
      "source": [
        "def clean_text(text):\n",
        "    text = str(text).lower()\n",
        "    text = re.sub(r'=\\d{2}', '', text) # Remove sequences like =20, =01, common in MIME emails\n",
        "    text = re.sub(r'[\\r\\n]+', ' ', text) # Replace newlines with spaces\n",
        "    text = re.sub(r'<.*?>', '', text) # Remove HTML tags\n",
        "    text = re.sub(r'[^a-z0-9\\s]', '', text) # Keep only letters, numbers, and spaces\n",
        "    return text.strip()\n",
        "\n",
        "df['CleanMessage'] = df['CombinedMessage'].apply(clean_text)\n",
        "\n",
        "print(\"Data cleaning and preprocessing complete.\")"
      ],
      "metadata": {
        "colab": {
          "base_uri": "https://localhost:8080/"
        },
        "id": "1M09XfnRgrMM",
        "outputId": "b7e32bda-8551-4074-d14d-d2d9ecba9b20"
      },
      "execution_count": 10,
      "outputs": [
        {
          "output_type": "stream",
          "name": "stdout",
          "text": [
            "Data cleaning and preprocessing complete.\n"
          ]
        }
      ]
    },
    {
      "cell_type": "markdown",
      "source": [
        "# Task 1: Sentiment Labeling\n",
        "Chosen Approach: TextBlob Sentiment Analysis\n",
        "- TextBlob provides a 'polarity' score ranging from -1.0 (most negative) to +1.0 (most positive).\n",
        "- Criteria for Sentiment Labeling (Justified and Reproducible):\n",
        "- Positive: Polarity > 0.1\n",
        "- Negative: Polarity < -0.1\n",
        "- Neutral: Polarity between -0.1 and 0.1 (inclusive)"
      ],
      "metadata": {
        "id": "m46yHVNPg82Y"
      }
    },
    {
      "cell_type": "code",
      "source": [
        "from textblob import TextBlob\n",
        "\n",
        "def textblob_labeler(text):\n",
        "    if not text:\n",
        "        return 'Neutral'\n",
        "    analysis = TextBlob(text)\n",
        "    polarity = analysis.sentiment.polarity\n",
        "\n",
        "    if polarity > 0.1:\n",
        "        return 'Positive'\n",
        "    elif polarity < -0.1:\n",
        "        return 'Negative'\n",
        "    else:\n",
        "        return 'Neutral'\n",
        "\n",
        "df['Sentiment'] = df['CleanMessage'].apply(textblob_labeler)\n",
        "\n",
        "print(\"\\n--- Task 1: Sentiment Labeling (TextBlob) Complete ---\")"
      ],
      "metadata": {
        "colab": {
          "base_uri": "https://localhost:8080/"
        },
        "id": "-6uCBu02hAD-",
        "outputId": "eee284aa-2b06-441a-e5fe-58a6f20f53f5"
      },
      "execution_count": 11,
      "outputs": [
        {
          "output_type": "stream",
          "name": "stdout",
          "text": [
            "\n",
            "--- Task 1: Sentiment Labeling (TextBlob) Complete ---\n"
          ]
        }
      ]
    },
    {
      "cell_type": "markdown",
      "source": [
        "# Task 2: Exploratory Data Analysis (EDA)"
      ],
      "metadata": {
        "id": "w_67VT78hTqP"
      }
    },
    {
      "cell_type": "markdown",
      "source": [
        "### 1. Examine Data Structure and Missing Values"
      ],
      "metadata": {
        "id": "1MiYY5CbhZ1j"
      }
    },
    {
      "cell_type": "code",
      "source": [
        "df['MessageLength'] = df['CleanMessage'].apply(len)\n",
        "df['WordCount'] = df['CleanMessage'].apply(lambda x: len(x.split()))\n",
        "df['Month'] = df['Timestamp'].dt.to_period('M')\n",
        "\n",
        "print(\"\\n--- Task 2.1: Data Structure ---\")\n",
        "print(f\"Number of Records: {len(df)}\")\n",
        "print(f\"Data Types:\\n{df.dtypes.to_string()}\")\n",
        "print(f\"Missing Values:\\n{df.isnull().sum().to_string()}\")"
      ],
      "metadata": {
        "colab": {
          "base_uri": "https://localhost:8080/"
        },
        "id": "IYrjcVVNhcws",
        "outputId": "45701690-4d79-4008-eaab-66b4112b3fc5"
      },
      "execution_count": 12,
      "outputs": [
        {
          "output_type": "stream",
          "name": "stdout",
          "text": [
            "\n",
            "--- Task 2.1: Data Structure ---\n",
            "Number of Records: 2191\n",
            "Data Types:\n",
            "Subject                    object\n",
            "body                       object\n",
            "date                       object\n",
            "from_email                 object\n",
            "Timestamp          datetime64[ns]\n",
            "EmployeeID                 object\n",
            "CombinedMessage            object\n",
            "CleanMessage               object\n",
            "Sentiment                  object\n",
            "MessageLength               int64\n",
            "WordCount                   int64\n",
            "Month                   period[M]\n",
            "Missing Values:\n",
            "Subject            0\n",
            "body               0\n",
            "date               0\n",
            "from_email         0\n",
            "Timestamp          0\n",
            "EmployeeID         0\n",
            "CombinedMessage    0\n",
            "CleanMessage       0\n",
            "Sentiment          0\n",
            "MessageLength      0\n",
            "WordCount          0\n",
            "Month              0\n"
          ]
        }
      ]
    },
    {
      "cell_type": "markdown",
      "source": [
        "### 2. Distribution of Sentiment Labels"
      ],
      "metadata": {
        "id": "T3skPyWWhhHP"
      }
    },
    {
      "cell_type": "code",
      "source": [
        "sentiment_prop = df['Sentiment'].value_counts(normalize=True) * 100\n",
        "print(\"\\n--- Task 2.2: Sentiment Distribution (%) ---\")\n",
        "print(sentiment_prop.round(2).to_string())"
      ],
      "metadata": {
        "colab": {
          "base_uri": "https://localhost:8080/"
        },
        "id": "FW3pqX-ShkKw",
        "outputId": "129187d1-f387-44c0-d78a-f324270d0d1b"
      },
      "execution_count": 13,
      "outputs": [
        {
          "output_type": "stream",
          "name": "stdout",
          "text": [
            "\n",
            "--- Task 2.2: Sentiment Distribution (%) ---\n",
            "Sentiment\n",
            "Neutral     46.51\n",
            "Positive    44.59\n",
            "Negative     8.90\n"
          ]
        }
      ]
    },
    {
      "cell_type": "markdown",
      "source": [
        "### 3. Trends Over Time (Monthly Sentiment)"
      ],
      "metadata": {
        "id": "F6Djjsw6hrre"
      }
    },
    {
      "cell_type": "code",
      "source": [
        "monthly_sentiment_prop = df.groupby('Month')['Sentiment'].value_counts(normalize=True).unstack(fill_value=0)\n",
        "print(\"\\n--- Task 2.3: Monthly Sentiment Proportion Trend (Head) ---\")\n",
        "print(monthly_sentiment_prop.head().to_string())"
      ],
      "metadata": {
        "colab": {
          "base_uri": "https://localhost:8080/"
        },
        "id": "GyCxEPy3hu8-",
        "outputId": "69541a57-e548-4110-ceae-a1d91a190ae2"
      },
      "execution_count": 14,
      "outputs": [
        {
          "output_type": "stream",
          "name": "stdout",
          "text": [
            "\n",
            "--- Task 2.3: Monthly Sentiment Proportion Trend (Head) ---\n",
            "Sentiment  Negative   Neutral  Positive\n",
            "Month                                  \n",
            "2010-01    0.076923  0.527473  0.395604\n",
            "2010-02    0.076923  0.439560  0.483516\n",
            "2010-03    0.076923  0.527473  0.395604\n",
            "2010-04    0.076087  0.543478  0.380435\n",
            "2010-05    0.054945  0.483516  0.461538\n"
          ]
        }
      ]
    },
    {
      "cell_type": "markdown",
      "source": [
        "### 4. Additional Patterns (Message Length vs. Sentiment)"
      ],
      "metadata": {
        "id": "N-2yh8wbhyMy"
      }
    },
    {
      "cell_type": "code",
      "source": [
        "length_summary = df.groupby('Sentiment')['MessageLength'].describe().round(2)\n",
        "print(\"\\n--- Task 2.4: Message Length Summary by Sentiment ---\")\n",
        "print(length_summary.to_string())"
      ],
      "metadata": {
        "colab": {
          "base_uri": "https://localhost:8080/"
        },
        "id": "WXAOZMuGh24Z",
        "outputId": "c0077eaa-9085-4ab6-a97e-5b6364b1e170"
      },
      "execution_count": 15,
      "outputs": [
        {
          "output_type": "stream",
          "name": "stdout",
          "text": [
            "\n",
            "--- Task 2.4: Message Length Summary by Sentiment ---\n",
            "            count    mean     std   min    25%    50%    75%     max\n",
            "Sentiment                                                           \n",
            "Negative    195.0  172.13  156.73  10.0   72.0  124.0  183.0   928.0\n",
            "Neutral    1019.0  222.50  214.30   1.0   65.0  146.0  297.0   974.0\n",
            "Positive    977.0  326.48  238.56  13.0  144.0  245.0  456.0  1028.0\n"
          ]
        }
      ]
    },
    {
      "cell_type": "markdown",
      "source": [
        "### Visualization 2.2: Sentiment Distribution"
      ],
      "metadata": {
        "id": "mNUi9WLRh6jC"
      }
    },
    {
      "cell_type": "code",
      "source": [
        "plt.figure(figsize=(8, 5))\n",
        "sns.barplot(x=sentiment_prop.index, y=sentiment_prop.values, palette=\"rocket\", order=['Positive', 'Neutral', 'Negative'])\n",
        "plt.title('Distribution of Message Sentiment (TextBlob, %)')\n",
        "plt.ylabel('Proportion (%)')\n",
        "plt.xlabel('Sentiment')\n",
        "plt.show()\n",
        "\n"
      ],
      "metadata": {
        "colab": {
          "base_uri": "https://localhost:8080/",
          "height": 594
        },
        "id": "VMhjXKeHiCj6",
        "outputId": "f002877f-dcc6-4da9-ab5f-7338da375ed7"
      },
      "execution_count": 20,
      "outputs": [
        {
          "output_type": "stream",
          "name": "stderr",
          "text": [
            "/tmp/ipython-input-2389921681.py:2: FutureWarning: \n",
            "\n",
            "Passing `palette` without assigning `hue` is deprecated and will be removed in v0.14.0. Assign the `x` variable to `hue` and set `legend=False` for the same effect.\n",
            "\n",
            "  sns.barplot(x=sentiment_prop.index, y=sentiment_prop.values, palette=\"rocket\", order=['Positive', 'Neutral', 'Negative'])\n"
          ]
        },
        {
          "output_type": "display_data",
          "data": {
            "text/plain": [
              "<Figure size 800x500 with 1 Axes>"
            ],
            "image/png": "[encoded data removed]"
          },
          "metadata": {}
        }
      ]
    },
    {
      "cell_type": "markdown",
      "source": [
        "### Visualization 2.3: Monthly Sentiment Trend"
      ],
      "metadata": {
        "id": "pfYpo3FfiYSW"
      }
    },
    {
      "cell_type": "code",
      "source": [
        "monthly_sentiment_prop.plot(kind='area', stacked=True, figsize=(12, 6), colormap='RdYlGn')\n",
        "plt.title('Monthly Sentiment Proportion Over Time (TextBlob)')\n",
        "plt.ylabel('Proportion of Messages')\n",
        "plt.xlabel('Month')\n",
        "plt.xticks(rotation=45, ha='right')\n",
        "plt.legend(title='Sentiment')\n",
        "plt.tight_layout()\n",
        "plt.show()"
      ],
      "metadata": {
        "colab": {
          "base_uri": "https://localhost:8080/",
          "height": 556
        },
        "id": "CwG_-wDdij5p",
        "outputId": "0a1e059a-2016-459e-fcdc-56ac6bfea257"
      },
      "execution_count": 23,
      "outputs": [
        {
          "output_type": "display_data",
          "data": {
            "text/plain": [
              "<Figure size 1200x600 with 1 Axes>"
            ],
            "image/png": "[encoded data removed]"
          },
          "metadata": {}
        }
      ]
    },
    {
      "cell_type": "markdown",
      "source": [
        "# Task 3: Employee Score Calculation\n",
        "Scoring Method\n",
        "- 1. Map Sentiment: Positive=+1, Negative=-1, Neutral=0.\n",
        "- 2. Group by EmployeeID AND Month, then SUM the scores. The grouping by Month ensures the score resets monthly."
      ],
      "metadata": {
        "id": "ew3aL-Iyisdo"
      }
    },
    {
      "cell_type": "code",
      "source": [
        "sentiment_map = {'Positive': 1, 'Negative': -1, 'Neutral': 0}\n",
        "df['MessageScore'] = df['Sentiment'].map(sentiment_map)\n",
        "\n",
        "# Aggregate scores\n",
        "monthly_scores = df.groupby(['Month', 'EmployeeID'])['MessageScore'].sum().reset_index()\n",
        "monthly_scores = monthly_scores.rename(columns={'MessageScore': 'MonthlySentimentScore'})\n",
        "\n",
        "print(\"\\n--- Task 3: Monthly Sentiment Scores (Sample) ---\")\n",
        "print(monthly_scores.sample(5).to_string())"
      ],
      "metadata": {
        "colab": {
          "base_uri": "https://localhost:8080/"
        },
        "id": "tErCzYv4i3lJ",
        "outputId": "49c35f1f-0c5d-47ae-99e1-82835ab55ac9"
      },
      "execution_count": 25,
      "outputs": [
        {
          "output_type": "stream",
          "name": "stdout",
          "text": [
            "\n",
            "--- Task 3: Monthly Sentiment Scores (Sample) ---\n",
            "       Month                EmployeeID  MonthlySentimentScore\n",
            "156  2011-04   lydia.delgado@enron.com                      5\n",
            "31   2010-04    don.baughman@enron.com                      5\n",
            "41   2010-05    don.baughman@enron.com                      9\n",
            "64   2010-07   johnny.palmer@enron.com                      0\n",
            "167  2011-05  patti.thompson@enron.com                     -1\n"
          ]
        }
      ]
    },
    {
      "cell_type": "markdown",
      "source": [
        "# Task 4: Employee Ranking"
      ],
      "metadata": {
        "id": "Pd6erj_3i-QX"
      }
    },
    {
      "cell_type": "markdown",
      "source": [
        "### 4.1. Sort the scores for robust ranking and tie-breaking\n",
        "Sorting by: Month (Asc), Score (Desc), EmployeeID (Asc)"
      ],
      "metadata": {
        "id": "_LiPVC8cjCwD"
      }
    },
    {
      "cell_type": "code",
      "source": [
        "ranked_df = monthly_scores.sort_values(\n",
        "    by=['Month', 'MonthlySentimentScore', 'EmployeeID'],\n",
        "    ascending=[True, False, True]\n",
        ").reset_index(drop=True)"
      ],
      "metadata": {
        "id": "GGm1klA_jJms"
      },
      "execution_count": 26,
      "outputs": []
    },
    {
      "cell_type": "markdown",
      "source": [
        "### 4.2. Top Three Positive Employees (Highest Scores)"
      ],
      "metadata": {
        "id": "XE4PvjJUjOer"
      }
    },
    {
      "cell_type": "code",
      "source": [
        "top_positive_employees = ranked_df.groupby('Month').head(3).reset_index(drop=True)\n",
        "top_positive_employees = top_positive_employees[['Month', 'EmployeeID', 'MonthlySentimentScore']]"
      ],
      "metadata": {
        "id": "36n4iAPljQvD"
      },
      "execution_count": 27,
      "outputs": []
    },
    {
      "cell_type": "markdown",
      "source": [
        "### 4.3. Top Three Negative Employees (Lowest Scores)\n",
        "Sort by Score ascending (lowest is most negative), then by EmployeeID ascending"
      ],
      "metadata": {
        "id": "kuQgwv2AjWnA"
      }
    },
    {
      "cell_type": "code",
      "source": [
        "top_negative_employees = ranked_df.sort_values(\n",
        "    by=['Month', 'MonthlySentimentScore', 'EmployeeID'],\n",
        "    ascending=[True, True, True]\n",
        ").groupby('Month').head(3).reset_index(drop=True)\n",
        "top_negative_employees = top_negative_employees[['Month', 'EmployeeID', 'MonthlySentimentScore']]\n",
        "\n",
        "print(\"\\n--- Task 4: Top Three Positive Employees (Head) ---\")\n",
        "print(top_positive_employees.head(5).to_string())\n",
        "print(\"\\n--- Task 4: Top Three Negative Employees (Head) ---\")\n",
        "print(top_negative_employees.head(5).to_string())"
      ],
      "metadata": {
        "colab": {
          "base_uri": "https://localhost:8080/"
        },
        "id": "g5ym4M5PjbsE",
        "outputId": "ca62299d-b66c-4961-c069-348a15adb075"
      },
      "execution_count": 28,
      "outputs": [
        {
          "output_type": "stream",
          "name": "stdout",
          "text": [
            "\n",
            "--- Task 4: Top Three Positive Employees (Head) ---\n",
            "     Month                   EmployeeID  MonthlySentimentScore\n",
            "0  2010-01     patti.thompson@enron.com                      5\n",
            "1  2010-01       don.baughman@enron.com                      4\n",
            "2  2010-01          eric.bass@enron.com                      4\n",
            "3  2010-02  bobette.riner@ipgdirect.com                      7\n",
            "4  2010-02        john.arnold@enron.com                      7\n",
            "\n",
            "--- Task 4: Top Three Negative Employees (Head) ---\n",
            "     Month                   EmployeeID  MonthlySentimentScore\n",
            "0  2010-01      rhonda.denton@enron.com                      0\n",
            "1  2010-01  bobette.riner@ipgdirect.com                      1\n",
            "2  2010-01        john.arnold@enron.com                      2\n",
            "3  2010-02      lydia.delgado@enron.com                      1\n",
            "4  2010-02     patti.thompson@enron.com                      1\n"
          ]
        }
      ]
    },
    {
      "cell_type": "code",
      "source": [
        "# Save rankings\n",
        "top_positive_employees.to_csv('top_positive_employees.csv', index=False)\n",
        "top_negative_employees.to_csv('top_negative_employees.csv', index=False)"
      ],
      "metadata": {
        "id": "OBvcXjLEjfy0"
      },
      "execution_count": 29,
      "outputs": []
    },
    {
      "cell_type": "markdown",
      "source": [
        "# Task 5: Flight Risk Identification"
      ],
      "metadata": {
        "id": "EDQzT8ahji2o"
      }
    },
    {
      "cell_type": "markdown",
      "source": [
        "### 5.1. Filter for only Negative sentiment messages"
      ],
      "metadata": {
        "id": "arSvm5Oijt1J"
      }
    },
    {
      "cell_type": "code",
      "source": [
        "negative_df = df[df['Sentiment'] == 'Negative'].copy()\n",
        "negative_df = negative_df.sort_values(by='Timestamp')"
      ],
      "metadata": {
        "id": "7A9KtJ7Ojqcu"
      },
      "execution_count": 30,
      "outputs": []
    },
    {
      "cell_type": "markdown",
      "source": [
        "### 5.2. Calculate 30-day rolling count of negative messages for each employee"
      ],
      "metadata": {
        "id": "twUp758KkKD5"
      }
    },
    {
      "cell_type": "code",
      "source": [
        "negative_df['NegativeCount'] = 1\n",
        "\n",
        "negative_rolling = negative_df.groupby('EmployeeID').rolling(\n",
        "    window='30D',\n",
        "    on='Timestamp'\n",
        ")['NegativeCount'].sum().reset_index()"
      ],
      "metadata": {
        "id": "dRYZAUkUkNwt"
      },
      "execution_count": 31,
      "outputs": []
    },
    {
      "cell_type": "markdown",
      "source": [
        "### 5.3. Identify the flight risk condition (4 or more negative mails in 30 days)"
      ],
      "metadata": {
        "id": "A0CQhe0PkVC4"
      }
    },
    {
      "cell_type": "code",
      "source": [
        "flight_risk_flags = negative_rolling[negative_rolling['NegativeCount'] >= 4]"
      ],
      "metadata": {
        "id": "T7TPXAYTkZ9u"
      },
      "execution_count": 32,
      "outputs": []
    },
    {
      "cell_type": "markdown",
      "source": [
        "### 5.4. Extract the unique employees flagged at least once"
      ],
      "metadata": {
        "id": "_tXEfVDQkZZC"
      }
    },
    {
      "cell_type": "code",
      "source": [
        "flight_risk_employees = flight_risk_flags['EmployeeID'].unique()\n",
        "\n",
        "print(\"\\n--- Task 5: Flight Risk Employees ---\")\n",
        "if len(flight_risk_employees) > 0:\n",
        "    flight_risk_list_df = pd.DataFrame(flight_risk_employees, columns=['EmployeeID'])\n",
        "    print(f\"Total unique flight risk employees identified: {len(flight_risk_employees)}\")\n",
        "    print(flight_risk_list_df.to_string(index=False))\n",
        "    flight_risk_list_df.to_csv('flight_risk_employees.csv', index=False)\n",
        "else:\n",
        "    print(\"No employees met the criteria of 4 or more negative messages in a 30-day rolling window.\")"
      ],
      "metadata": {
        "colab": {
          "base_uri": "https://localhost:8080/"
        },
        "id": "fqeW0XwKkhVC",
        "outputId": "d7021f7e-d090-4143-8eab-6c93527b31ae"
      },
      "execution_count": 33,
      "outputs": [
        {
          "output_type": "stream",
          "name": "stdout",
          "text": [
            "\n",
            "--- Task 5: Flight Risk Employees ---\n",
            "Total unique flight risk employees identified: 6\n",
            "                 EmployeeID\n",
            "bobette.riner@ipgdirect.com\n",
            "    johnny.palmer@enron.com\n",
            "    lydia.delgado@enron.com\n",
            "   patti.thompson@enron.com\n",
            "    rhonda.denton@enron.com\n",
            "       sally.beck@enron.com\n"
          ]
        }
      ]
    },
    {
      "cell_type": "markdown",
      "source": [
        "# Task 6: Predictive Modeling (Linear Regression)"
      ],
      "metadata": {
        "id": "DxGnICg0kmoG"
      }
    },
    {
      "cell_type": "markdown",
      "source": [
        "### 6.1. Merge Features and Target (Monthly Scores from Task 3)\n"
      ],
      "metadata": {
        "id": "tEJQavydkuwj"
      }
    },
    {
      "cell_type": "code",
      "source": [
        "feature_df = df.groupby(['Month', 'EmployeeID']).agg(\n",
        "    MonthlyFrequency=('EmployeeID', 'size'),\n",
        "    AvgMessageLength=('MessageLength', 'mean'),\n",
        "    AvgWordCount=('WordCount', 'mean')\n",
        ").reset_index()\n",
        "\n",
        "model_data = pd.merge(monthly_scores, feature_df, on=['Month', 'EmployeeID'])"
      ],
      "metadata": {
        "id": "VekXWTInkq6_"
      },
      "execution_count": 34,
      "outputs": []
    },
    {
      "cell_type": "markdown",
      "source": [
        "### 6.2. Prepare X (Features) and y (Target)"
      ],
      "metadata": {
        "id": "chugtvUIkx2x"
      }
    },
    {
      "cell_type": "code",
      "source": [
        "X = model_data[['EmployeeID', 'MonthlyFrequency', 'AvgMessageLength', 'AvgWordCount']]\n",
        "y = model_data['MonthlySentimentScore']\n",
        "# Handle EmployeeID (Categorical Feature)\n",
        "X = pd.get_dummies(X, columns=['EmployeeID'], drop_first=True)"
      ],
      "metadata": {
        "id": "aG40Mf7Yk1x4"
      },
      "execution_count": 35,
      "outputs": []
    },
    {
      "cell_type": "markdown",
      "source": [
        "### 6.3. Split data"
      ],
      "metadata": {
        "id": "gszB5tl5k5Bt"
      }
    },
    {
      "cell_type": "code",
      "source": [
        "X_train, X_test, y_train, y_test = train_test_split(X, y, test_size=0.2, random_state=42)"
      ],
      "metadata": {
        "id": "J6wtx9MZk4W1"
      },
      "execution_count": 36,
      "outputs": []
    },
    {
      "cell_type": "markdown",
      "source": [
        "### 6.4. Develop a Linear Regression Model"
      ],
      "metadata": {
        "id": "-sMRC7YPlDey"
      }
    },
    {
      "cell_type": "code",
      "source": [
        "model = LinearRegression()\n",
        "model.fit(X_train, y_train)"
      ],
      "metadata": {
        "colab": {
          "base_uri": "https://localhost:8080/",
          "height": 80
        },
        "id": "SlXXXDuRlHjI",
        "outputId": "edf38af0-bd6f-4680-ec4f-d3710ed5cbef"
      },
      "execution_count": 37,
      "outputs": [
        {
          "output_type": "execute_result",
          "data": {
            "text/plain": [
              "LinearRegression()"
            ],
            "text/html": [
              "<style>#sk-container-id-1 {\n",
              "  /* Definition of color scheme common for light and dark mode */\n",
              "  --sklearn-color-text: #000;\n",
              "  --sklearn-color-text-muted: #666;\n",
              "  --sklearn-color-line: gray;\n",
              "  /* Definition of color scheme for unfitted estimators */\n",
              "  --sklearn-color-unfitted-level-0: #fff5e6;\n",
              "  --sklearn-color-unfitted-level-1: #f6e4d2;\n",
              "  --sklearn-color-unfitted-level-2: #ffe0b3;\n",
              "  --sklearn-color-unfitted-level-3: chocolate;\n",
              "  /* Definition of color scheme for fitted estimators */\n",
              "  --sklearn-color-fitted-level-0: #f0f8ff;\n",
              "  --sklearn-color-fitted-level-1: #d4ebff;\n",
              "  --sklearn-color-fitted-level-2: #b3dbfd;\n",
              "  --sklearn-color-fitted-level-3: cornflowerblue;\n",
              "\n",
              "  /* Specific color for light theme */\n",
              "  --sklearn-color-text-on-default-background: var(--sg-text-color, var(--theme-code-foreground, var(--jp-content-font-color1, black)));\n",
              "  --sklearn-color-background: var(--sg-background-color, var(--theme-background, var(--jp-layout-color0, white)));\n",
              "  --sklearn-color-border-box: var(--sg-text-color, var(--theme-code-foreground, var(--jp-content-font-color1, black)));\n",
              "  --sklearn-color-icon: #696969;\n",
              "\n",
              "  @media (prefers-color-scheme: dark) {\n",
              "    /* Redefinition of color scheme for dark theme */\n",
              "    --sklearn-color-text-on-default-background: var(--sg-text-color, var(--theme-code-foreground, var(--jp-content-font-color1, white)));\n",
              "    --sklearn-color-background: var(--sg-background-color, var(--theme-background, var(--jp-layout-color0, #111)));\n",
              "    --sklearn-color-border-box: var(--sg-text-color, var(--theme-code-foreground, var(--jp-content-font-color1, white)));\n",
              "    --sklearn-color-icon: #878787;\n",
              "  }\n",
              "}\n",
              "\n",
              "#sk-container-id-1 {\n",
              "  color: var(--sklearn-color-text);\n",
              "}\n",
              "\n",
              "#sk-container-id-1 pre {\n",
              "  padding: 0;\n",
              "}\n",
              "\n",
              "#sk-container-id-1 input.sk-hidden--visually {\n",
              "  border: 0;\n",
              "  clip: rect(1px 1px 1px 1px);\n",
              "  clip: rect(1px, 1px, 1px, 1px);\n",
              "  height: 1px;\n",
              "  margin: -1px;\n",
              "  overflow: hidden;\n",
              "  padding: 0;\n",
              "  position: absolute;\n",
              "  width: 1px;\n",
              "}\n",
              "\n",
              "#sk-container-id-1 div.sk-dashed-wrapped {\n",
              "  border: 1px dashed var(--sklearn-color-line);\n",
              "  margin: 0 0.4em 0.5em 0.4em;\n",
              "  box-sizing: border-box;\n",
              "  padding-bottom: 0.4em;\n",
              "  background-color: var(--sklearn-color-background);\n",
              "}\n",
              "\n",
              "#sk-container-id-1 div.sk-container {\n",
              "  /* jupyter's `normalize.less` sets `[hidden] { display: none; }`\n",
              "     but bootstrap.min.css set `[hidden] { display: none !important; }`\n",
              "     so we also need the `!important` here to be able to override the\n",
              "     default hidden behavior on the sphinx rendered scikit-learn.org.\n",
              "     See: https://github.com/scikit-learn/scikit-learn/issues/21755 */\n",
              "  display: inline-block !important;\n",
              "  position: relative;\n",
              "}\n",
              "\n",
              "#sk-container-id-1 div.sk-text-repr-fallback {\n",
              "  display: none;\n",
              "}\n",
              "\n",
              "div.sk-parallel-item,\n",
              "div.sk-serial,\n",
              "div.sk-item {\n",
              "  /* draw centered vertical line to link estimators */\n",
              "  background-image: linear-gradient(var(--sklearn-color-text-on-default-background), var(--sklearn-color-text-on-default-background));\n",
              "  background-size: 2px 100%;\n",
              "  background-repeat: no-repeat;\n",
              "  background-position: center center;\n",
              "}\n",
              "\n",
              "/* Parallel-specific style estimator block */\n",
              "\n",
              "#sk-container-id-1 div.sk-parallel-item::after {\n",
              "  content: \"\";\n",
              "  width: 100%;\n",
              "  border-bottom: 2px solid var(--sklearn-color-text-on-default-background);\n",
              "  flex-grow: 1;\n",
              "}\n",
              "\n",
              "#sk-container-id-1 div.sk-parallel {\n",
              "  display: flex;\n",
              "  align-items: stretch;\n",
              "  justify-content: center;\n",
              "  background-color: var(--sklearn-color-background);\n",
              "  position: relative;\n",
              "}\n",
              "\n",
              "#sk-container-id-1 div.sk-parallel-item {\n",
              "  display: flex;\n",
              "  flex-direction: column;\n",
              "}\n",
              "\n",
              "#sk-container-id-1 div.sk-parallel-item:first-child::after {\n",
              "  align-self: flex-end;\n",
              "  width: 50%;\n",
              "}\n",
              "\n",
              "#sk-container-id-1 div.sk-parallel-item:last-child::after {\n",
              "  align-self: flex-start;\n",
              "  width: 50%;\n",
              "}\n",
              "\n",
              "#sk-container-id-1 div.sk-parallel-item:only-child::after {\n",
              "  width: 0;\n",
              "}\n",
              "\n",
              "/* Serial-specific style estimator block */\n",
              "\n",
              "#sk-container-id-1 div.sk-serial {\n",
              "  display: flex;\n",
              "  flex-direction: column;\n",
              "  align-items: center;\n",
              "  background-color: var(--sklearn-color-background);\n",
              "  padding-right: 1em;\n",
              "  padding-left: 1em;\n",
              "}\n",
              "\n",
              "\n",
              "/* Toggleable style: style used for estimator/Pipeline/ColumnTransformer box that is\n",
              "clickable and can be expanded/collapsed.\n",
              "- Pipeline and ColumnTransformer use this feature and define the default style\n",
              "- Estimators will overwrite some part of the style using the `sk-estimator` class\n",
              "*/\n",
              "\n",
              "/* Pipeline and ColumnTransformer style (default) */\n",
              "\n",
              "#sk-container-id-1 div.sk-toggleable {\n",
              "  /* Default theme specific background. It is overwritten whether we have a\n",
              "  specific estimator or a Pipeline/ColumnTransformer */\n",
              "  background-color: var(--sklearn-color-background);\n",
              "}\n",
              "\n",
              "/* Toggleable label */\n",
              "#sk-container-id-1 label.sk-toggleable__label {\n",
              "  cursor: pointer;\n",
              "  display: flex;\n",
              "  width: 100%;\n",
              "  margin-bottom: 0;\n",
              "  padding: 0.5em;\n",
              "  box-sizing: border-box;\n",
              "  text-align: center;\n",
              "  align-items: start;\n",
              "  justify-content: space-between;\n",
              "  gap: 0.5em;\n",
              "}\n",
              "\n",
              "#sk-container-id-1 label.sk-toggleable__label .caption {\n",
              "  font-size: 0.6rem;\n",
              "  font-weight: lighter;\n",
              "  color: var(--sklearn-color-text-muted);\n",
              "}\n",
              "\n",
              "#sk-container-id-1 label.sk-toggleable__label-arrow:before {\n",
              "  /* Arrow on the left of the label */\n",
              "  content: \"▸\";\n",
              "  float: left;\n",
              "  margin-right: 0.25em;\n",
              "  color: var(--sklearn-color-icon);\n",
              "}\n",
              "\n",
              "#sk-container-id-1 label.sk-toggleable__label-arrow:hover:before {\n",
              "  color: var(--sklearn-color-text);\n",
              "}\n",
              "\n",
              "/* Toggleable content - dropdown */\n",
              "\n",
              "#sk-container-id-1 div.sk-toggleable__content {\n",
              "  max-height: 0;\n",
              "  max-width: 0;\n",
              "  overflow: hidden;\n",
              "  text-align: left;\n",
              "  /* unfitted */\n",
              "  background-color: var(--sklearn-color-unfitted-level-0);\n",
              "}\n",
              "\n",
              "#sk-container-id-1 div.sk-toggleable__content.fitted {\n",
              "  /* fitted */\n",
              "  background-color: var(--sklearn-color-fitted-level-0);\n",
              "}\n",
              "\n",
              "#sk-container-id-1 div.sk-toggleable__content pre {\n",
              "  margin: 0.2em;\n",
              "  border-radius: 0.25em;\n",
              "  color: var(--sklearn-color-text);\n",
              "  /* unfitted */\n",
              "  background-color: var(--sklearn-color-unfitted-level-0);\n",
              "}\n",
              "\n",
              "#sk-container-id-1 div.sk-toggleable__content.fitted pre {\n",
              "  /* unfitted */\n",
              "  background-color: var(--sklearn-color-fitted-level-0);\n",
              "}\n",
              "\n",
              "#sk-container-id-1 input.sk-toggleable__control:checked~div.sk-toggleable__content {\n",
              "  /* Expand drop-down */\n",
              "  max-height: 200px;\n",
              "  max-width: 100%;\n",
              "  overflow: auto;\n",
              "}\n",
              "\n",
              "#sk-container-id-1 input.sk-toggleable__control:checked~label.sk-toggleable__label-arrow:before {\n",
              "  content: \"▾\";\n",
              "}\n",
              "\n",
              "/* Pipeline/ColumnTransformer-specific style */\n",
              "\n",
              "#sk-container-id-1 div.sk-label input.sk-toggleable__control:checked~label.sk-toggleable__label {\n",
              "  color: var(--sklearn-color-text);\n",
              "  background-color: var(--sklearn-color-unfitted-level-2);\n",
              "}\n",
              "\n",
              "#sk-container-id-1 div.sk-label.fitted input.sk-toggleable__control:checked~label.sk-toggleable__label {\n",
              "  background-color: var(--sklearn-color-fitted-level-2);\n",
              "}\n",
              "\n",
              "/* Estimator-specific style */\n",
              "\n",
              "/* Colorize estimator box */\n",
              "#sk-container-id-1 div.sk-estimator input.sk-toggleable__control:checked~label.sk-toggleable__label {\n",
              "  /* unfitted */\n",
              "  background-color: var(--sklearn-color-unfitted-level-2);\n",
              "}\n",
              "\n",
              "#sk-container-id-1 div.sk-estimator.fitted input.sk-toggleable__control:checked~label.sk-toggleable__label {\n",
              "  /* fitted */\n",
              "  background-color: var(--sklearn-color-fitted-level-2);\n",
              "}\n",
              "\n",
              "#sk-container-id-1 div.sk-label label.sk-toggleable__label,\n",
              "#sk-container-id-1 div.sk-label label {\n",
              "  /* The background is the default theme color */\n",
              "  color: var(--sklearn-color-text-on-default-background);\n",
              "}\n",
              "\n",
              "/* On hover, darken the color of the background */\n",
              "#sk-container-id-1 div.sk-label:hover label.sk-toggleable__label {\n",
              "  color: var(--sklearn-color-text);\n",
              "  background-color: var(--sklearn-color-unfitted-level-2);\n",
              "}\n",
              "\n",
              "/* Label box, darken color on hover, fitted */\n",
              "#sk-container-id-1 div.sk-label.fitted:hover label.sk-toggleable__label.fitted {\n",
              "  color: var(--sklearn-color-text);\n",
              "  background-color: var(--sklearn-color-fitted-level-2);\n",
              "}\n",
              "\n",
              "/* Estimator label */\n",
              "\n",
              "#sk-container-id-1 div.sk-label label {\n",
              "  font-family: monospace;\n",
              "  font-weight: bold;\n",
              "  display: inline-block;\n",
              "  line-height: 1.2em;\n",
              "}\n",
              "\n",
              "#sk-container-id-1 div.sk-label-container {\n",
              "  text-align: center;\n",
              "}\n",
              "\n",
              "/* Estimator-specific */\n",
              "#sk-container-id-1 div.sk-estimator {\n",
              "  font-family: monospace;\n",
              "  border: 1px dotted var(--sklearn-color-border-box);\n",
              "  border-radius: 0.25em;\n",
              "  box-sizing: border-box;\n",
              "  margin-bottom: 0.5em;\n",
              "  /* unfitted */\n",
              "  background-color: var(--sklearn-color-unfitted-level-0);\n",
              "}\n",
              "\n",
              "#sk-container-id-1 div.sk-estimator.fitted {\n",
              "  /* fitted */\n",
              "  background-color: var(--sklearn-color-fitted-level-0);\n",
              "}\n",
              "\n",
              "/* on hover */\n",
              "#sk-container-id-1 div.sk-estimator:hover {\n",
              "  /* unfitted */\n",
              "  background-color: var(--sklearn-color-unfitted-level-2);\n",
              "}\n",
              "\n",
              "#sk-container-id-1 div.sk-estimator.fitted:hover {\n",
              "  /* fitted */\n",
              "  background-color: var(--sklearn-color-fitted-level-2);\n",
              "}\n",
              "\n",
              "/* Specification for estimator info (e.g. \"i\" and \"?\") */\n",
              "\n",
              "/* Common style for \"i\" and \"?\" */\n",
              "\n",
              ".sk-estimator-doc-link,\n",
              "a:link.sk-estimator-doc-link,\n",
              "a:visited.sk-estimator-doc-link {\n",
              "  float: right;\n",
              "  font-size: smaller;\n",
              "  line-height: 1em;\n",
              "  font-family: monospace;\n",
              "  background-color: var(--sklearn-color-background);\n",
              "  border-radius: 1em;\n",
              "  height: 1em;\n",
              "  width: 1em;\n",
              "  text-decoration: none !important;\n",
              "  margin-left: 0.5em;\n",
              "  text-align: center;\n",
              "  /* unfitted */\n",
              "  border: var(--sklearn-color-unfitted-level-1) 1pt solid;\n",
              "  color: var(--sklearn-color-unfitted-level-1);\n",
              "}\n",
              "\n",
              ".sk-estimator-doc-link.fitted,\n",
              "a:link.sk-estimator-doc-link.fitted,\n",
              "a:visited.sk-estimator-doc-link.fitted {\n",
              "  /* fitted */\n",
              "  border: var(--sklearn-color-fitted-level-1) 1pt solid;\n",
              "  color: var(--sklearn-color-fitted-level-1);\n",
              "}\n",
              "\n",
              "/* On hover */\n",
              "div.sk-estimator:hover .sk-estimator-doc-link:hover,\n",
              ".sk-estimator-doc-link:hover,\n",
              "div.sk-label-container:hover .sk-estimator-doc-link:hover,\n",
              ".sk-estimator-doc-link:hover {\n",
              "  /* unfitted */\n",
              "  background-color: var(--sklearn-color-unfitted-level-3);\n",
              "  color: var(--sklearn-color-background);\n",
              "  text-decoration: none;\n",
              "}\n",
              "\n",
              "div.sk-estimator.fitted:hover .sk-estimator-doc-link.fitted:hover,\n",
              ".sk-estimator-doc-link.fitted:hover,\n",
              "div.sk-label-container:hover .sk-estimator-doc-link.fitted:hover,\n",
              ".sk-estimator-doc-link.fitted:hover {\n",
              "  /* fitted */\n",
              "  background-color: var(--sklearn-color-fitted-level-3);\n",
              "  color: var(--sklearn-color-background);\n",
              "  text-decoration: none;\n",
              "}\n",
              "\n",
              "/* Span, style for the box shown on hovering the info icon */\n",
              ".sk-estimator-doc-link span {\n",
              "  display: none;\n",
              "  z-index: 9999;\n",
              "  position: relative;\n",
              "  font-weight: normal;\n",
              "  right: .2ex;\n",
              "  padding: .5ex;\n",
              "  margin: .5ex;\n",
              "  width: min-content;\n",
              "  min-width: 20ex;\n",
              "  max-width: 50ex;\n",
              "  color: var(--sklearn-color-text);\n",
              "  box-shadow: 2pt 2pt 4pt #999;\n",
              "  /* unfitted */\n",
              "  background: var(--sklearn-color-unfitted-level-0);\n",
              "  border: .5pt solid var(--sklearn-color-unfitted-level-3);\n",
              "}\n",
              "\n",
              ".sk-estimator-doc-link.fitted span {\n",
              "  /* fitted */\n",
              "  background: var(--sklearn-color-fitted-level-0);\n",
              "  border: var(--sklearn-color-fitted-level-3);\n",
              "}\n",
              "\n",
              ".sk-estimator-doc-link:hover span {\n",
              "  display: block;\n",
              "}\n",
              "\n",
              "/* \"?\"-specific style due to the `<a>` HTML tag */\n",
              "\n",
              "#sk-container-id-1 a.estimator_doc_link {\n",
              "  float: right;\n",
              "  font-size: 1rem;\n",
              "  line-height: 1em;\n",
              "  font-family: monospace;\n",
              "  background-color: var(--sklearn-color-background);\n",
              "  border-radius: 1rem;\n",
              "  height: 1rem;\n",
              "  width: 1rem;\n",
              "  text-decoration: none;\n",
              "  /* unfitted */\n",
              "  color: var(--sklearn-color-unfitted-level-1);\n",
              "  border: var(--sklearn-color-unfitted-level-1) 1pt solid;\n",
              "}\n",
              "\n",
              "#sk-container-id-1 a.estimator_doc_link.fitted {\n",
              "  /* fitted */\n",
              "  border: var(--sklearn-color-fitted-level-1) 1pt solid;\n",
              "  color: var(--sklearn-color-fitted-level-1);\n",
              "}\n",
              "\n",
              "/* On hover */\n",
              "#sk-container-id-1 a.estimator_doc_link:hover {\n",
              "  /* unfitted */\n",
              "  background-color: var(--sklearn-color-unfitted-level-3);\n",
              "  color: var(--sklearn-color-background);\n",
              "  text-decoration: none;\n",
              "}\n",
              "\n",
              "#sk-container-id-1 a.estimator_doc_link.fitted:hover {\n",
              "  /* fitted */\n",
              "  background-color: var(--sklearn-color-fitted-level-3);\n",
              "}\n",
              "</style><div id=\"sk-container-id-1\" class=\"sk-top-container\"><div class=\"sk-text-repr-fallback\"><pre>LinearRegression()</pre><b>In a Jupyter environment, please rerun this cell to show the HTML representation or trust the notebook. <br />On GitHub, the HTML representation is unable to render, please try loading this page with nbviewer.org.</b></div><div class=\"sk-container\" hidden><div class=\"sk-item\"><div class=\"sk-estimator fitted sk-toggleable\"><input class=\"sk-toggleable__control sk-hidden--visually\" id=\"sk-estimator-id-1\" type=\"checkbox\" checked><label for=\"sk-estimator-id-1\" class=\"sk-toggleable__label fitted sk-toggleable__label-arrow\"><div><div>LinearRegression</div></div><div><a class=\"sk-estimator-doc-link fitted\" rel=\"noreferrer\" target=\"_blank\" href=\"https://scikit-learn.org/1.6/modules/generated/sklearn.linear_model.LinearRegression.html\">?<span>Documentation for LinearRegression</span></a><span class=\"sk-estimator-doc-link fitted\">i<span>Fitted</span></span></div></label><div class=\"sk-toggleable__content fitted\"><pre>LinearRegression()</pre></div> </div></div></div></div>"
            ]
          },
          "metadata": {},
          "execution_count": 37
        }
      ]
    },
    {
      "cell_type": "markdown",
      "source": [
        "### 6.5. Validate Model Effectiveness"
      ],
      "metadata": {
        "id": "HCNh2H3PlKci"
      }
    },
    {
      "cell_type": "code",
      "source": [
        "y_pred = model.predict(X_test)\n",
        "\n",
        "mse = mean_squared_error(y_test, y_pred)\n",
        "r2 = r2_score(y_test, y_pred)\n",
        "\n",
        "print(\"\\n--- Task 6: Linear Regression Model Evaluation ---\")\n",
        "print(f\"Mean Squared Error (MSE): {mse:.2f}\")\n",
        "print(f\"R-squared (R2) Score: {r2:.2f}\")"
      ],
      "metadata": {
        "colab": {
          "base_uri": "https://localhost:8080/"
        },
        "id": "gvY9-GhulOLx",
        "outputId": "e9350b2e-d619-4a3a-d66e-07c90fd5f8a7"
      },
      "execution_count": 38,
      "outputs": [
        {
          "output_type": "stream",
          "name": "stdout",
          "text": [
            "\n",
            "--- Task 6: Linear Regression Model Evaluation ---\n",
            "Mean Squared Error (MSE): 2.64\n",
            "R-squared (R2) Score: 0.67\n"
          ]
        }
      ]
    },
    {
      "cell_type": "markdown",
      "source": [
        "### 6.6. Interpret Model Results"
      ],
      "metadata": {
        "id": "i5UX51WNlS4X"
      }
    },
    {
      "cell_type": "code",
      "source": [
        "coefficients_df = pd.DataFrame({\n",
        "    'Feature': X.columns,\n",
        "    'Coefficient': model.coef_\n",
        "}).sort_values(by='Coefficient', ascending=False)\n",
        "\n",
        "print(\"\\n--- Task 6: Model Coefficients ---\")\n",
        "print(\"Interpretation: A positive coefficient means that feature increases the Monthly Sentiment Score.\")\n",
        "print(coefficients_df.to_string(index=False))"
      ],
      "metadata": {
        "colab": {
          "base_uri": "https://localhost:8080/"
        },
        "id": "KN_jjNpDlXSh",
        "outputId": "7f809da9-5dfc-4bdd-8960-320408e6bfd3"
      },
      "execution_count": 39,
      "outputs": [
        {
          "output_type": "stream",
          "name": "stdout",
          "text": [
            "\n",
            "--- Task 6: Model Coefficients ---\n",
            "Interpretation: A positive coefficient means that feature increases the Monthly Sentiment Score.\n",
            "                            Feature  Coefficient\n",
            "    EmployeeID_sally.beck@enron.com     0.876044\n",
            " EmployeeID_johnny.palmer@enron.com     0.710951\n",
            "   EmployeeID_john.arnold@enron.com     0.621488\n",
            " EmployeeID_lydia.delgado@enron.com     0.580717\n",
            "     EmployeeID_eric.bass@enron.com     0.497420\n",
            "  EmployeeID_don.baughman@enron.com     0.447974\n",
            " EmployeeID_kayne.coulter@enron.com     0.416213\n",
            "                   MonthlyFrequency     0.307120\n",
            "                       AvgWordCount     0.009383\n",
            "                   AvgMessageLength     0.001206\n",
            "EmployeeID_patti.thompson@enron.com    -0.091359\n",
            " EmployeeID_rhonda.denton@enron.com    -0.160192\n"
          ]
        }
      ]
    },
    {
      "cell_type": "markdown",
      "source": [
        "### Visualization: Actual vs. Predicted"
      ],
      "metadata": {
        "id": "I4qGi5qjlgyj"
      }
    },
    {
      "cell_type": "code",
      "source": [
        "plt.figure(figsize=(8, 6))\n",
        "plt.scatter(y_test, y_pred)\n",
        "plt.plot([y.min(), y.max()], [y.min(), y.max()], 'r--')\n",
        "plt.title('Actual vs. Predicted Monthly Sentiment Scores (TextBlob)')\n",
        "plt.xlabel('Actual Score')\n",
        "plt.ylabel('Predicted Score')\n",
        "plt.show()"
      ],
      "metadata": {
        "colab": {
          "base_uri": "https://localhost:8080/",
          "height": 564
        },
        "id": "IT8k8Goflei9",
        "outputId": "7b158996-89aa-4538-f602-0e114d3a6e5c"
      },
      "execution_count": 41,
      "outputs": [
        {
          "output_type": "display_data",
          "data": {
            "text/plain": [
              "<Figure size 800x600 with 1 Axes>"
            ],
            "image/png": "[encoded data removed]"
          },
          "metadata": {}
        }
      ]
    }
  ]
}